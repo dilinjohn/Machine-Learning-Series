{
 "cells": [
  {
   "cell_type": "code",
   "execution_count": 1,
   "metadata": {
    "collapsed": true
   },
   "outputs": [],
   "source": [
    "from textblob import TextBlob\n",
    "import tweepy"
   ]
  },
  {
   "cell_type": "code",
   "execution_count": 3,
   "metadata": {},
   "outputs": [
    {
     "name": "stdout",
     "output_type": "stream",
     "text": [
      "showing info https://raw.githubusercontent.com/nltk/nltk_data/gh-pages/index.xml\n"
     ]
    },
    {
     "data": {
      "text/plain": [
       "True"
      ]
     },
     "execution_count": 3,
     "metadata": {},
     "output_type": "execute_result"
    }
   ],
   "source": [
    "import nltk\n",
    "nltk.download()"
   ]
  },
  {
   "cell_type": "code",
   "execution_count": 6,
   "metadata": {
    "collapsed": true
   },
   "outputs": [],
   "source": [
    "# Keys for twitter app\n",
    "consumer_key = 'PAjegZIdIw9FqsbjiBiB32Me8'\n",
    "consumer_secret = 'PVGym2PO42wBEPELVLocH9sltQ2kYg3NdwcFEUodSAtTMlyQhv'\n",
    "access_token = '984782607375155200-j3SIS7VVW0mM1I3SJPGuRSfkK5EBpn3'\n",
    "access_token_secret = 'mcOjYsvq2Tw1QBXBdWUkIbys69kbzWgKF73i4bJ4kaQ9W'"
   ]
  },
  {
   "cell_type": "code",
   "execution_count": 7,
   "metadata": {
    "collapsed": true
   },
   "outputs": [],
   "source": [
    "auth = tweepy.OAuthHandler(consumer_key, consumer_secret)\n",
    "auth.set_access_token(access_token, access_token_secret)\n",
    "api = tweepy.API(auth)"
   ]
  },
  {
   "cell_type": "code",
   "execution_count": 14,
   "metadata": {
    "collapsed": true
   },
   "outputs": [],
   "source": [
    "# search a list of tweets\n",
    "public_tweets = api.search('FIFA')\n",
    "\n",
    "# This should return a bunch of tweets on Trump"
   ]
  },
  {
   "cell_type": "code",
   "execution_count": 15,
   "metadata": {},
   "outputs": [
    {
     "name": "stdout",
     "output_type": "stream",
     "text": [
      "RT @FIFAWorldCupENG: #ENG, including Gareth Southgate and under-21 coach Aidy Boothroyd, have been out for a walk around the Spartak Stadiu…\n",
      "Sentiment(polarity=0.0, subjectivity=0.0)\n",
      "RT @apimientaDC: Se viene el Colombia-Inglaterra. ¿Por donde más? Por la #CasaDelMundial @Telemundo44 #MundialTelemundo https://t.co/GPXjrb…\n",
      "Sentiment(polarity=0.0, subjectivity=0.0)\n",
      "RT @FIFAWorldCup: Pick the perfect #WorldCupDreamTeam, for your chance to WIN prizes! 🏆⚽\n",
      "PLAY 👉https://t.co/NHVYZkTchw https://t.co/ISmQ17h…\n",
      "Sentiment(polarity=1.0, subjectivity=0.7)\n",
      "RT @meganeouji840: カッコいいなぁ❤️現地のサポーターの皆さんもだもん👍こういうの良いね☺️\n",
      "\n",
      "日本代表チーム敗北後のロッカールームが凄い！ FIFAの運営スタッフがツイート → 世界中で絶賛の嵐「我々は本当の勝者を発見した」 (ロケットニュース24)  ht…\n",
      "Sentiment(polarity=0.0, subjectivity=0.0)\n",
      "RT @GolCaracol: Carlos Sánchez: “Estoy muy tranquilo de los jugadores que tiene la Selección Colombia” https://t.co/DDHwqhYstV\n",
      "\n",
      "#VamosColom…\n",
      "Sentiment(polarity=0.0, subjectivity=0.0)\n",
      "RT @FOXSoccer: From Neymar's tap in to the Belgium's game-winning counter, here is every goal from today's FIFA World Cup action. https://t…\n",
      "Sentiment(polarity=0.1, subjectivity=0.1)\n",
      "Tu fais quoi ? — Fifa comm d’habb https://t.co/G8Y2E5YqMJ\n",
      "Sentiment(polarity=0.0, subjectivity=0.0)\n",
      "Me ha gustado un vídeo de @YouTube (https://t.co/xWjafMJqLv - FIFA 16 | FUT DRAFT a Ciegas con mi MADRE | Los más guapos).\n",
      "Sentiment(polarity=0.0, subjectivity=0.0)\n",
      "400 footballer printing blocks - some incredible images #footballprograms #fifa https://t.co/SedYCcObPy\n",
      "Sentiment(polarity=0.9, subjectivity=0.9)\n",
      "RT @FIFAWorldCup: When you bag an injury-time winner to send your country to the #WorldCup quarter-finals 💥\n",
      "@NChadli 🇧🇪👏\n",
      "\n",
      "🎥 Highlights  👉 h…\n",
      "Sentiment(polarity=0.0, subjectivity=0.0)\n",
      "RT @Tottu14TOT: 勝手ながらBandadaLondonFC解散します！今後体験に周るメンバーがいるかと思いますので各チーム様よろしくお願いいたします！自分はこれできっぱりゲーム関係をやめて一家のATM極めます！\n",
      "メンバー、元メンバー、関わりのあった方々楽しい時間を…\n",
      "Sentiment(polarity=0.0, subjectivity=0.0)\n",
      "RT @TD_Deportes: #VamosConTodo \n",
      "\n",
      "¡Así queda el camino por el campeonato a la Copa del Mundo! \n",
      "\n",
      "https://t.co/QIdUkKNNxs https://t.co/bFjLcsq…\n",
      "Sentiment(polarity=0.0, subjectivity=0.0)\n",
      "#VamosConTodo Nuestro TRI quedó en la posición 12 de #Rusia2018, dos lugares abajo a comparación del Mundial pasado… https://t.co/FuQaRmrFQD\n",
      "Sentiment(polarity=0.0, subjectivity=0.0)\n",
      "I liked a @YouTube video https://t.co/gACrL6g1wN FIFA WORLD CUP RUSSIA 2018 PROMO TRAILER\n",
      "Sentiment(polarity=0.6, subjectivity=0.8)\n",
      "@YoMax38 @ArseneF5 Comment tu explique que fifa soit toujours à la ramasse vers fevrier mars et que pratiquement pl… https://t.co/svy8wtVOEl\n",
      "Sentiment(polarity=0.0, subjectivity=0.0)\n"
     ]
    }
   ],
   "source": [
    "# print the tweets\n",
    "for tweet in public_tweets:\n",
    "    print(tweet.text)\n",
    "    analysis = TextBlob(tweet.text)\n",
    "    # the sentimental attribute of the tweets\n",
    "    print(analysis.sentiment)"
   ]
  },
  {
   "cell_type": "code",
   "execution_count": null,
   "metadata": {
    "collapsed": true
   },
   "outputs": [],
   "source": []
  }
 ],
 "metadata": {
  "kernelspec": {
   "display_name": "Python 3",
   "language": "python",
   "name": "python3"
  },
  "language_info": {
   "codemirror_mode": {
    "name": "ipython",
    "version": 3
   },
   "file_extension": ".py",
   "mimetype": "text/x-python",
   "name": "python",
   "nbconvert_exporter": "python",
   "pygments_lexer": "ipython3",
   "version": "3.6.3"
  }
 },
 "nbformat": 4,
 "nbformat_minor": 2
}
