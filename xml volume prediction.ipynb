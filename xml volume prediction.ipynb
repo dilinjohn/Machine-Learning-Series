{
 "cells": [
  {
   "cell_type": "code",
   "execution_count": 775,
   "metadata": {
    "collapsed": true
   },
   "outputs": [],
   "source": [
    "import pandas as pd\n",
    "import numpy as np\n",
    "import matplotlib.pyplot as plt\n",
    "%matplotlib inline\n",
    "\n",
    "from sklearn import preprocessing, svm\n",
    "from sklearn.model_selection import train_test_split\n",
    "from sklearn.linear_model import LinearRegression"
   ]
  },
  {
   "cell_type": "code",
   "execution_count": 776,
   "metadata": {},
   "outputs": [],
   "source": [
    "# Importing the data set for xmlpi\n",
    "df = pd.read_excel('XML PI transactions.xls', sheetname = 'Daily data', parse_cols =2)"
   ]
  },
  {
   "cell_type": "code",
   "execution_count": 777,
   "metadata": {},
   "outputs": [
    {
     "data": {
      "text/plain": [
       "Index(['Date', 'Messages', 'Delta Since 1st July'], dtype='object')"
      ]
     },
     "execution_count": 777,
     "metadata": {},
     "output_type": "execute_result"
    }
   ],
   "source": [
    "df.columns"
   ]
  },
  {
   "cell_type": "code",
   "execution_count": 778,
   "metadata": {},
   "outputs": [
    {
     "data": {
      "text/html": [
       "<div>\n",
       "<style>\n",
       "    .dataframe thead tr:only-child th {\n",
       "        text-align: right;\n",
       "    }\n",
       "\n",
       "    .dataframe thead th {\n",
       "        text-align: left;\n",
       "    }\n",
       "\n",
       "    .dataframe tbody tr th {\n",
       "        vertical-align: top;\n",
       "    }\n",
       "</style>\n",
       "<table border=\"1\" class=\"dataframe\">\n",
       "  <thead>\n",
       "    <tr style=\"text-align: right;\">\n",
       "      <th></th>\n",
       "      <th>Date</th>\n",
       "      <th>Messages</th>\n",
       "      <th>Delta Since 1st July</th>\n",
       "    </tr>\n",
       "  </thead>\n",
       "  <tbody>\n",
       "    <tr>\n",
       "      <th>0</th>\n",
       "      <td>2010-07-01</td>\n",
       "      <td>303527.0</td>\n",
       "      <td>0.0</td>\n",
       "    </tr>\n",
       "    <tr>\n",
       "      <th>1</th>\n",
       "      <td>2010-07-02</td>\n",
       "      <td>296493.0</td>\n",
       "      <td>0.0</td>\n",
       "    </tr>\n",
       "    <tr>\n",
       "      <th>2</th>\n",
       "      <td>2010-07-03</td>\n",
       "      <td>270807.0</td>\n",
       "      <td>0.0</td>\n",
       "    </tr>\n",
       "    <tr>\n",
       "      <th>3</th>\n",
       "      <td>2010-07-04</td>\n",
       "      <td>257801.0</td>\n",
       "      <td>0.0</td>\n",
       "    </tr>\n",
       "    <tr>\n",
       "      <th>4</th>\n",
       "      <td>2010-07-05</td>\n",
       "      <td>356954.0</td>\n",
       "      <td>53427.0</td>\n",
       "    </tr>\n",
       "  </tbody>\n",
       "</table>\n",
       "</div>"
      ],
      "text/plain": [
       "        Date  Messages  Delta Since 1st July\n",
       "0 2010-07-01  303527.0                   0.0\n",
       "1 2010-07-02  296493.0                   0.0\n",
       "2 2010-07-03  270807.0                   0.0\n",
       "3 2010-07-04  257801.0                   0.0\n",
       "4 2010-07-05  356954.0               53427.0"
      ]
     },
     "execution_count": 778,
     "metadata": {},
     "output_type": "execute_result"
    }
   ],
   "source": [
    "df.head()"
   ]
  },
  {
   "cell_type": "code",
   "execution_count": 779,
   "metadata": {},
   "outputs": [
    {
     "data": {
      "text/plain": [
       "2830"
      ]
     },
     "execution_count": 779,
     "metadata": {},
     "output_type": "execute_result"
    }
   ],
   "source": [
    "len(df)"
   ]
  },
  {
   "cell_type": "code",
   "execution_count": 780,
   "metadata": {},
   "outputs": [
    {
     "name": "stdout",
     "output_type": "stream",
     "text": [
      "<class 'pandas.core.frame.DataFrame'>\n",
      "RangeIndex: 2830 entries, 0 to 2829\n",
      "Data columns (total 3 columns):\n",
      "Date                    2830 non-null datetime64[ns]\n",
      "Messages                2819 non-null float64\n",
      "Delta Since 1st July    2825 non-null float64\n",
      "dtypes: datetime64[ns](1), float64(2)\n",
      "memory usage: 66.4 KB\n"
     ]
    }
   ],
   "source": [
    "df.info()"
   ]
  },
  {
   "cell_type": "code",
   "execution_count": 781,
   "metadata": {},
   "outputs": [
    {
     "data": {
      "text/plain": [
       "2825   2018-03-27\n",
       "2826   2018-03-28\n",
       "2827   2018-03-29\n",
       "2828   2018-03-30\n",
       "2829   2018-03-31\n",
       "Name: Date, dtype: datetime64[ns]"
      ]
     },
     "execution_count": 781,
     "metadata": {},
     "output_type": "execute_result"
    }
   ],
   "source": [
    "df.Date.tail()"
   ]
  },
  {
   "cell_type": "code",
   "execution_count": 782,
   "metadata": {},
   "outputs": [
    {
     "data": {
      "text/html": [
       "<div>\n",
       "<style>\n",
       "    .dataframe thead tr:only-child th {\n",
       "        text-align: right;\n",
       "    }\n",
       "\n",
       "    .dataframe thead th {\n",
       "        text-align: left;\n",
       "    }\n",
       "\n",
       "    .dataframe tbody tr th {\n",
       "        vertical-align: top;\n",
       "    }\n",
       "</style>\n",
       "<table border=\"1\" class=\"dataframe\">\n",
       "  <thead>\n",
       "    <tr style=\"text-align: right;\">\n",
       "      <th></th>\n",
       "      <th>Date</th>\n",
       "      <th>Messages</th>\n",
       "    </tr>\n",
       "  </thead>\n",
       "  <tbody>\n",
       "    <tr>\n",
       "      <th>0</th>\n",
       "      <td>2010-07-01</td>\n",
       "      <td>303527.0</td>\n",
       "    </tr>\n",
       "    <tr>\n",
       "      <th>1</th>\n",
       "      <td>2010-07-02</td>\n",
       "      <td>296493.0</td>\n",
       "    </tr>\n",
       "    <tr>\n",
       "      <th>2</th>\n",
       "      <td>2010-07-03</td>\n",
       "      <td>270807.0</td>\n",
       "    </tr>\n",
       "    <tr>\n",
       "      <th>3</th>\n",
       "      <td>2010-07-04</td>\n",
       "      <td>257801.0</td>\n",
       "    </tr>\n",
       "    <tr>\n",
       "      <th>4</th>\n",
       "      <td>2010-07-05</td>\n",
       "      <td>356954.0</td>\n",
       "    </tr>\n",
       "  </tbody>\n",
       "</table>\n",
       "</div>"
      ],
      "text/plain": [
       "        Date  Messages\n",
       "0 2010-07-01  303527.0\n",
       "1 2010-07-02  296493.0\n",
       "2 2010-07-03  270807.0\n",
       "3 2010-07-04  257801.0\n",
       "4 2010-07-05  356954.0"
      ]
     },
     "execution_count": 782,
     "metadata": {},
     "output_type": "execute_result"
    }
   ],
   "source": [
    "df[['Date', 'Messages']].head()"
   ]
  },
  {
   "cell_type": "code",
   "execution_count": 783,
   "metadata": {},
   "outputs": [
    {
     "data": {
      "text/plain": [
       "<matplotlib.axes._subplots.AxesSubplot at 0x1ac0e320>"
      ]
     },
     "execution_count": 783,
     "metadata": {},
     "output_type": "execute_result"
    },
    {
     "data": {
      "image/png": "[encoded data removed]",
      "text/plain": [
       "<matplotlib.figure.Figure at 0x1ac3e748>"
      ]
     },
     "metadata": {},
     "output_type": "display_data"
    }
   ],
   "source": [
    "df[['Date', 'Messages']].plot(x = \"Date\", y = \"Messages\", kind= \"line\", figsize = (20,10))"
   ]
  },
  {
   "cell_type": "code",
   "execution_count": 784,
   "metadata": {},
   "outputs": [],
   "source": [
    "df.drop('Delta Since 1st July', axis =1 , inplace=True)"
   ]
  },
  {
   "cell_type": "code",
   "execution_count": 785,
   "metadata": {},
   "outputs": [
    {
     "data": {
      "text/plain": [
       "(2830, 2)"
      ]
     },
     "execution_count": 785,
     "metadata": {},
     "output_type": "execute_result"
    }
   ],
   "source": [
    "df.shape"
   ]
  },
  {
   "cell_type": "code",
   "execution_count": 786,
   "metadata": {},
   "outputs": [
    {
     "data": {
      "text/html": [
       "<div>\n",
       "<style>\n",
       "    .dataframe thead tr:only-child th {\n",
       "        text-align: right;\n",
       "    }\n",
       "\n",
       "    .dataframe thead th {\n",
       "        text-align: left;\n",
       "    }\n",
       "\n",
       "    .dataframe tbody tr th {\n",
       "        vertical-align: top;\n",
       "    }\n",
       "</style>\n",
       "<table border=\"1\" class=\"dataframe\">\n",
       "  <thead>\n",
       "    <tr style=\"text-align: right;\">\n",
       "      <th></th>\n",
       "      <th>Date</th>\n",
       "      <th>Messages</th>\n",
       "    </tr>\n",
       "  </thead>\n",
       "  <tbody>\n",
       "    <tr>\n",
       "      <th>2825</th>\n",
       "      <td>2018-03-27</td>\n",
       "      <td>16340320.0</td>\n",
       "    </tr>\n",
       "    <tr>\n",
       "      <th>2826</th>\n",
       "      <td>2018-03-28</td>\n",
       "      <td>16379341.0</td>\n",
       "    </tr>\n",
       "    <tr>\n",
       "      <th>2827</th>\n",
       "      <td>2018-03-29</td>\n",
       "      <td>17166139.0</td>\n",
       "    </tr>\n",
       "    <tr>\n",
       "      <th>2828</th>\n",
       "      <td>2018-03-30</td>\n",
       "      <td>17645568.0</td>\n",
       "    </tr>\n",
       "    <tr>\n",
       "      <th>2829</th>\n",
       "      <td>2018-03-31</td>\n",
       "      <td>15121190.0</td>\n",
       "    </tr>\n",
       "  </tbody>\n",
       "</table>\n",
       "</div>"
      ],
      "text/plain": [
       "           Date    Messages\n",
       "2825 2018-03-27  16340320.0\n",
       "2826 2018-03-28  16379341.0\n",
       "2827 2018-03-29  17166139.0\n",
       "2828 2018-03-30  17645568.0\n",
       "2829 2018-03-31  15121190.0"
      ]
     },
     "execution_count": 786,
     "metadata": {},
     "output_type": "execute_result"
    }
   ],
   "source": [
    "df.tail()"
   ]
  },
  {
   "cell_type": "code",
   "execution_count": 787,
   "metadata": {},
   "outputs": [],
   "source": [
    "# Lets create a label\n",
    "# For predcition 'n' number of days into the future - here we select n = 90\n",
    "n = 90\n",
    "df['label'] = df['Messages'].shift(-n)"
   ]
  },
  {
   "cell_type": "code",
   "execution_count": 788,
   "metadata": {},
   "outputs": [
    {
     "data": {
      "text/html": [
       "<div>\n",
       "<style>\n",
       "    .dataframe thead tr:only-child th {\n",
       "        text-align: right;\n",
       "    }\n",
       "\n",
       "    .dataframe thead th {\n",
       "        text-align: left;\n",
       "    }\n",
       "\n",
       "    .dataframe tbody tr th {\n",
       "        vertical-align: top;\n",
       "    }\n",
       "</style>\n",
       "<table border=\"1\" class=\"dataframe\">\n",
       "  <thead>\n",
       "    <tr style=\"text-align: right;\">\n",
       "      <th></th>\n",
       "      <th>Date</th>\n",
       "      <th>Messages</th>\n",
       "      <th>label</th>\n",
       "    </tr>\n",
       "  </thead>\n",
       "  <tbody>\n",
       "    <tr>\n",
       "      <th>2810</th>\n",
       "      <td>2018-03-12</td>\n",
       "      <td>15594496.0</td>\n",
       "      <td>NaN</td>\n",
       "    </tr>\n",
       "    <tr>\n",
       "      <th>2811</th>\n",
       "      <td>2018-03-13</td>\n",
       "      <td>15297032.0</td>\n",
       "      <td>NaN</td>\n",
       "    </tr>\n",
       "    <tr>\n",
       "      <th>2812</th>\n",
       "      <td>2018-03-14</td>\n",
       "      <td>15551558.0</td>\n",
       "      <td>NaN</td>\n",
       "    </tr>\n",
       "    <tr>\n",
       "      <th>2813</th>\n",
       "      <td>2018-03-15</td>\n",
       "      <td>15395735.0</td>\n",
       "      <td>NaN</td>\n",
       "    </tr>\n",
       "    <tr>\n",
       "      <th>2814</th>\n",
       "      <td>2018-03-16</td>\n",
       "      <td>15974493.0</td>\n",
       "      <td>NaN</td>\n",
       "    </tr>\n",
       "    <tr>\n",
       "      <th>2815</th>\n",
       "      <td>2018-03-17</td>\n",
       "      <td>15008961.0</td>\n",
       "      <td>NaN</td>\n",
       "    </tr>\n",
       "    <tr>\n",
       "      <th>2816</th>\n",
       "      <td>2018-03-18</td>\n",
       "      <td>13871439.0</td>\n",
       "      <td>NaN</td>\n",
       "    </tr>\n",
       "    <tr>\n",
       "      <th>2817</th>\n",
       "      <td>2018-03-19</td>\n",
       "      <td>16376852.0</td>\n",
       "      <td>NaN</td>\n",
       "    </tr>\n",
       "    <tr>\n",
       "      <th>2818</th>\n",
       "      <td>2018-03-20</td>\n",
       "      <td>16887208.0</td>\n",
       "      <td>NaN</td>\n",
       "    </tr>\n",
       "    <tr>\n",
       "      <th>2819</th>\n",
       "      <td>2018-03-21</td>\n",
       "      <td>16288386.0</td>\n",
       "      <td>NaN</td>\n",
       "    </tr>\n",
       "    <tr>\n",
       "      <th>2820</th>\n",
       "      <td>2018-03-22</td>\n",
       "      <td>16168396.0</td>\n",
       "      <td>NaN</td>\n",
       "    </tr>\n",
       "    <tr>\n",
       "      <th>2821</th>\n",
       "      <td>2018-03-23</td>\n",
       "      <td>15934907.0</td>\n",
       "      <td>NaN</td>\n",
       "    </tr>\n",
       "    <tr>\n",
       "      <th>2822</th>\n",
       "      <td>2018-03-24</td>\n",
       "      <td>14384788.0</td>\n",
       "      <td>NaN</td>\n",
       "    </tr>\n",
       "    <tr>\n",
       "      <th>2823</th>\n",
       "      <td>2018-03-25</td>\n",
       "      <td>12980293.0</td>\n",
       "      <td>NaN</td>\n",
       "    </tr>\n",
       "    <tr>\n",
       "      <th>2824</th>\n",
       "      <td>2018-03-26</td>\n",
       "      <td>16506017.0</td>\n",
       "      <td>NaN</td>\n",
       "    </tr>\n",
       "    <tr>\n",
       "      <th>2825</th>\n",
       "      <td>2018-03-27</td>\n",
       "      <td>16340320.0</td>\n",
       "      <td>NaN</td>\n",
       "    </tr>\n",
       "    <tr>\n",
       "      <th>2826</th>\n",
       "      <td>2018-03-28</td>\n",
       "      <td>16379341.0</td>\n",
       "      <td>NaN</td>\n",
       "    </tr>\n",
       "    <tr>\n",
       "      <th>2827</th>\n",
       "      <td>2018-03-29</td>\n",
       "      <td>17166139.0</td>\n",
       "      <td>NaN</td>\n",
       "    </tr>\n",
       "    <tr>\n",
       "      <th>2828</th>\n",
       "      <td>2018-03-30</td>\n",
       "      <td>17645568.0</td>\n",
       "      <td>NaN</td>\n",
       "    </tr>\n",
       "    <tr>\n",
       "      <th>2829</th>\n",
       "      <td>2018-03-31</td>\n",
       "      <td>15121190.0</td>\n",
       "      <td>NaN</td>\n",
       "    </tr>\n",
       "  </tbody>\n",
       "</table>\n",
       "</div>"
      ],
      "text/plain": [
       "           Date    Messages  label\n",
       "2810 2018-03-12  15594496.0    NaN\n",
       "2811 2018-03-13  15297032.0    NaN\n",
       "2812 2018-03-14  15551558.0    NaN\n",
       "2813 2018-03-15  15395735.0    NaN\n",
       "2814 2018-03-16  15974493.0    NaN\n",
       "2815 2018-03-17  15008961.0    NaN\n",
       "2816 2018-03-18  13871439.0    NaN\n",
       "2817 2018-03-19  16376852.0    NaN\n",
       "2818 2018-03-20  16887208.0    NaN\n",
       "2819 2018-03-21  16288386.0    NaN\n",
       "2820 2018-03-22  16168396.0    NaN\n",
       "2821 2018-03-23  15934907.0    NaN\n",
       "2822 2018-03-24  14384788.0    NaN\n",
       "2823 2018-03-25  12980293.0    NaN\n",
       "2824 2018-03-26  16506017.0    NaN\n",
       "2825 2018-03-27  16340320.0    NaN\n",
       "2826 2018-03-28  16379341.0    NaN\n",
       "2827 2018-03-29  17166139.0    NaN\n",
       "2828 2018-03-30  17645568.0    NaN\n",
       "2829 2018-03-31  15121190.0    NaN"
      ]
     },
     "execution_count": 788,
     "metadata": {},
     "output_type": "execute_result"
    }
   ],
   "source": [
    "df.tail(20)"
   ]
  },
  {
   "cell_type": "code",
   "execution_count": 789,
   "metadata": {
    "collapsed": true
   },
   "outputs": [],
   "source": [
    "df_copy = df.copy()"
   ]
  },
  {
   "cell_type": "code",
   "execution_count": 790,
   "metadata": {},
   "outputs": [
    {
     "data": {
      "text/html": [
       "<div>\n",
       "<style>\n",
       "    .dataframe thead tr:only-child th {\n",
       "        text-align: right;\n",
       "    }\n",
       "\n",
       "    .dataframe thead th {\n",
       "        text-align: left;\n",
       "    }\n",
       "\n",
       "    .dataframe tbody tr th {\n",
       "        vertical-align: top;\n",
       "    }\n",
       "</style>\n",
       "<table border=\"1\" class=\"dataframe\">\n",
       "  <thead>\n",
       "    <tr style=\"text-align: right;\">\n",
       "      <th></th>\n",
       "      <th>Date</th>\n",
       "      <th>Messages</th>\n",
       "      <th>label</th>\n",
       "    </tr>\n",
       "  </thead>\n",
       "  <tbody>\n",
       "    <tr>\n",
       "      <th>2809</th>\n",
       "      <td>2018-03-11</td>\n",
       "      <td>12524549.0</td>\n",
       "      <td>NaN</td>\n",
       "    </tr>\n",
       "    <tr>\n",
       "      <th>2810</th>\n",
       "      <td>2018-03-12</td>\n",
       "      <td>15594496.0</td>\n",
       "      <td>NaN</td>\n",
       "    </tr>\n",
       "    <tr>\n",
       "      <th>2811</th>\n",
       "      <td>2018-03-13</td>\n",
       "      <td>15297032.0</td>\n",
       "      <td>NaN</td>\n",
       "    </tr>\n",
       "    <tr>\n",
       "      <th>2812</th>\n",
       "      <td>2018-03-14</td>\n",
       "      <td>15551558.0</td>\n",
       "      <td>NaN</td>\n",
       "    </tr>\n",
       "    <tr>\n",
       "      <th>2813</th>\n",
       "      <td>2018-03-15</td>\n",
       "      <td>15395735.0</td>\n",
       "      <td>NaN</td>\n",
       "    </tr>\n",
       "    <tr>\n",
       "      <th>2814</th>\n",
       "      <td>2018-03-16</td>\n",
       "      <td>15974493.0</td>\n",
       "      <td>NaN</td>\n",
       "    </tr>\n",
       "    <tr>\n",
       "      <th>2815</th>\n",
       "      <td>2018-03-17</td>\n",
       "      <td>15008961.0</td>\n",
       "      <td>NaN</td>\n",
       "    </tr>\n",
       "    <tr>\n",
       "      <th>2816</th>\n",
       "      <td>2018-03-18</td>\n",
       "      <td>13871439.0</td>\n",
       "      <td>NaN</td>\n",
       "    </tr>\n",
       "    <tr>\n",
       "      <th>2817</th>\n",
       "      <td>2018-03-19</td>\n",
       "      <td>16376852.0</td>\n",
       "      <td>NaN</td>\n",
       "    </tr>\n",
       "    <tr>\n",
       "      <th>2818</th>\n",
       "      <td>2018-03-20</td>\n",
       "      <td>16887208.0</td>\n",
       "      <td>NaN</td>\n",
       "    </tr>\n",
       "    <tr>\n",
       "      <th>2819</th>\n",
       "      <td>2018-03-21</td>\n",
       "      <td>16288386.0</td>\n",
       "      <td>NaN</td>\n",
       "    </tr>\n",
       "    <tr>\n",
       "      <th>2820</th>\n",
       "      <td>2018-03-22</td>\n",
       "      <td>16168396.0</td>\n",
       "      <td>NaN</td>\n",
       "    </tr>\n",
       "    <tr>\n",
       "      <th>2821</th>\n",
       "      <td>2018-03-23</td>\n",
       "      <td>15934907.0</td>\n",
       "      <td>NaN</td>\n",
       "    </tr>\n",
       "    <tr>\n",
       "      <th>2822</th>\n",
       "      <td>2018-03-24</td>\n",
       "      <td>14384788.0</td>\n",
       "      <td>NaN</td>\n",
       "    </tr>\n",
       "    <tr>\n",
       "      <th>2823</th>\n",
       "      <td>2018-03-25</td>\n",
       "      <td>12980293.0</td>\n",
       "      <td>NaN</td>\n",
       "    </tr>\n",
       "    <tr>\n",
       "      <th>2824</th>\n",
       "      <td>2018-03-26</td>\n",
       "      <td>16506017.0</td>\n",
       "      <td>NaN</td>\n",
       "    </tr>\n",
       "    <tr>\n",
       "      <th>2825</th>\n",
       "      <td>2018-03-27</td>\n",
       "      <td>16340320.0</td>\n",
       "      <td>NaN</td>\n",
       "    </tr>\n",
       "    <tr>\n",
       "      <th>2826</th>\n",
       "      <td>2018-03-28</td>\n",
       "      <td>16379341.0</td>\n",
       "      <td>NaN</td>\n",
       "    </tr>\n",
       "    <tr>\n",
       "      <th>2827</th>\n",
       "      <td>2018-03-29</td>\n",
       "      <td>17166139.0</td>\n",
       "      <td>NaN</td>\n",
       "    </tr>\n",
       "    <tr>\n",
       "      <th>2828</th>\n",
       "      <td>2018-03-30</td>\n",
       "      <td>17645568.0</td>\n",
       "      <td>NaN</td>\n",
       "    </tr>\n",
       "    <tr>\n",
       "      <th>2829</th>\n",
       "      <td>2018-03-31</td>\n",
       "      <td>15121190.0</td>\n",
       "      <td>NaN</td>\n",
       "    </tr>\n",
       "  </tbody>\n",
       "</table>\n",
       "</div>"
      ],
      "text/plain": [
       "           Date    Messages  label\n",
       "2809 2018-03-11  12524549.0    NaN\n",
       "2810 2018-03-12  15594496.0    NaN\n",
       "2811 2018-03-13  15297032.0    NaN\n",
       "2812 2018-03-14  15551558.0    NaN\n",
       "2813 2018-03-15  15395735.0    NaN\n",
       "2814 2018-03-16  15974493.0    NaN\n",
       "2815 2018-03-17  15008961.0    NaN\n",
       "2816 2018-03-18  13871439.0    NaN\n",
       "2817 2018-03-19  16376852.0    NaN\n",
       "2818 2018-03-20  16887208.0    NaN\n",
       "2819 2018-03-21  16288386.0    NaN\n",
       "2820 2018-03-22  16168396.0    NaN\n",
       "2821 2018-03-23  15934907.0    NaN\n",
       "2822 2018-03-24  14384788.0    NaN\n",
       "2823 2018-03-25  12980293.0    NaN\n",
       "2824 2018-03-26  16506017.0    NaN\n",
       "2825 2018-03-27  16340320.0    NaN\n",
       "2826 2018-03-28  16379341.0    NaN\n",
       "2827 2018-03-29  17166139.0    NaN\n",
       "2828 2018-03-30  17645568.0    NaN\n",
       "2829 2018-03-31  15121190.0    NaN"
      ]
     },
     "execution_count": 790,
     "metadata": {},
     "output_type": "execute_result"
    }
   ],
   "source": [
    "df_copy.tail(21)"
   ]
  },
  {
   "cell_type": "code",
   "execution_count": 791,
   "metadata": {},
   "outputs": [
    {
     "data": {
      "text/plain": [
       "(2830, 3)"
      ]
     },
     "execution_count": 791,
     "metadata": {},
     "output_type": "execute_result"
    }
   ],
   "source": [
    "df_copy.shape"
   ]
  },
  {
   "cell_type": "code",
   "execution_count": 792,
   "metadata": {},
   "outputs": [
    {
     "data": {
      "text/plain": [
       "(2718, 3)"
      ]
     },
     "execution_count": 792,
     "metadata": {},
     "output_type": "execute_result"
    }
   ],
   "source": [
    "df_copy.dropna(inplace=True)\n",
    "df_copy.shape"
   ]
  },
  {
   "cell_type": "code",
   "execution_count": 793,
   "metadata": {},
   "outputs": [
    {
     "data": {
      "text/html": [
       "<div>\n",
       "<style>\n",
       "    .dataframe thead tr:only-child th {\n",
       "        text-align: right;\n",
       "    }\n",
       "\n",
       "    .dataframe thead th {\n",
       "        text-align: left;\n",
       "    }\n",
       "\n",
       "    .dataframe tbody tr th {\n",
       "        vertical-align: top;\n",
       "    }\n",
       "</style>\n",
       "<table border=\"1\" class=\"dataframe\">\n",
       "  <thead>\n",
       "    <tr style=\"text-align: right;\">\n",
       "      <th></th>\n",
       "      <th>Date</th>\n",
       "      <th>Messages</th>\n",
       "      <th>label</th>\n",
       "    </tr>\n",
       "  </thead>\n",
       "  <tbody>\n",
       "    <tr>\n",
       "      <th>2735</th>\n",
       "      <td>2017-12-27</td>\n",
       "      <td>17613272.0</td>\n",
       "      <td>16340320.0</td>\n",
       "    </tr>\n",
       "    <tr>\n",
       "      <th>2736</th>\n",
       "      <td>2017-12-28</td>\n",
       "      <td>16449983.0</td>\n",
       "      <td>16379341.0</td>\n",
       "    </tr>\n",
       "    <tr>\n",
       "      <th>2737</th>\n",
       "      <td>2017-12-29</td>\n",
       "      <td>16840971.0</td>\n",
       "      <td>17166139.0</td>\n",
       "    </tr>\n",
       "    <tr>\n",
       "      <th>2738</th>\n",
       "      <td>2017-12-30</td>\n",
       "      <td>15256747.0</td>\n",
       "      <td>17645568.0</td>\n",
       "    </tr>\n",
       "    <tr>\n",
       "      <th>2739</th>\n",
       "      <td>2017-12-31</td>\n",
       "      <td>14359372.0</td>\n",
       "      <td>15121190.0</td>\n",
       "    </tr>\n",
       "  </tbody>\n",
       "</table>\n",
       "</div>"
      ],
      "text/plain": [
       "           Date    Messages       label\n",
       "2735 2017-12-27  17613272.0  16340320.0\n",
       "2736 2017-12-28  16449983.0  16379341.0\n",
       "2737 2017-12-29  16840971.0  17166139.0\n",
       "2738 2017-12-30  15256747.0  17645568.0\n",
       "2739 2017-12-31  14359372.0  15121190.0"
      ]
     },
     "execution_count": 793,
     "metadata": {},
     "output_type": "execute_result"
    }
   ],
   "source": [
    "df_copy.tail(5)"
   ]
  },
  {
   "cell_type": "code",
   "execution_count": 794,
   "metadata": {
    "scrolled": true
   },
   "outputs": [
    {
     "name": "stdout",
     "output_type": "stream",
     "text": [
      "length of X is: 2718\n",
      "length of y is: 2628\n",
      "length of X_predict is: 90\n",
      "Actual X shape:  2718\n",
      "0.864848447057\n"
     ]
    }
   ],
   "source": [
    "# Transaction volumes have been shifted up by 10 rows so label for each row corresponds to the volume 10 days\n",
    "# into the future\n",
    "# We will use this data to train and test our data\n",
    "\n",
    "# Lets save our features , here its only the Messages into our independent variable X\n",
    "\n",
    "# Remove the NaN values so that we don't have any NaN values in the df_copy.label\n",
    "\n",
    "X = np.array(df_copy['Messages'])\n",
    "y = np.array(df_copy['label'])[:-n]\n",
    "\n",
    "print(\"length of X is:\", len(X))\n",
    "print(\"length of y is:\", len(y))\n",
    "\n",
    "# # Applying scaling on X\n",
    "# #X = preprocessing.scale(X)\n",
    "\n",
    "# #X = np.array(df['Messages'])\n",
    "# print(\"Old length of X is:\", len(X))\n",
    "# Split X in train/test and predict\n",
    "#X_predict = X[-10:]\n",
    "print(\"length of X_predict is:\", len(X_predict))\n",
    "\n",
    "# # # Now the actual X is\n",
    "#X = X[:-10]\n",
    "print('Actual X shape: ', len(X))\n",
    "\n",
    "# print(\"New length of X is:\", len(X))\n",
    "\n",
    "# # # drop the NaN values in the label as this will affect the prediction\n",
    "# # df.dropna(inplace = True)\n",
    "# # y = np.array(df['label'])\n",
    "\n",
    "# print(\"New length of y is:\", len(y))\n",
    "\n",
    "# # print(\"length of X is:\", len(X))\n",
    "# # print(\"length of y is:\", len(y))\n",
    "\n",
    "# Need to reshape X and it otherwise generates an error. This is a single feature.\n",
    "X = X.reshape(-1,1)\n",
    "X_predict = X[-n:]\n",
    "X = X[:-n]\n",
    "# # # # Creating out train, test data\n",
    "X_train, X_test, y_train, y_test = train_test_split(X, y, test_size=0.2)\n",
    "\n",
    "# # # # classifier\n",
    "clf = LinearRegression()\n",
    "clf.fit(X_train, y_train)\n",
    "\n",
    "confidence = clf.score(X_test, y_test)\n",
    "\n",
    "print(confidence)\n"
   ]
  },
  {
   "cell_type": "code",
   "execution_count": 795,
   "metadata": {},
   "outputs": [
    {
     "name": "stdout",
     "output_type": "stream",
     "text": [
      "Forecasted volume for 90 days into the future \n"
     ]
    },
    {
     "data": {
      "text/plain": [
       "array([ 27033480.55289713,  25641977.66412313,  25842098.47134966,\n",
       "        25911389.02314653,  28727042.00496289,  26469047.31762698,\n",
       "        28564426.50276083,  29794745.59622072,  27653208.81282073,\n",
       "        31206880.18228385,  30262926.15896257,  31183949.1795277 ,\n",
       "        25776009.79831403,  31329082.96523744,  27039691.38537794,\n",
       "        28508135.26283389,  28774330.07628004,  26804802.32664164,\n",
       "        26591388.87122456,  22750690.1684682 ,  27626322.28260268,\n",
       "        28171873.68455786,  27493461.23726103,  27992899.04139816,\n",
       "        26968534.76329529,  25777957.10019629,  24142112.95386233,\n",
       "        26863923.13384594,  26442363.86640014,  27256961.08519456,\n",
       "        28614150.39375574,  27838177.67087062,  26970730.27283347,\n",
       "        22899241.32231315,  29702362.70669137,  30056313.5933174 ,\n",
       "        29766007.66253292,  30033270.89711609,  30129614.95519043,\n",
       "        27986548.31005674,  22881964.94124527,  27314253.05326146,\n",
       "        27540596.99933478,  28242355.63310309,  28127151.17782952,\n",
       "        29842288.64449348,  30580906.11516428,  23212686.97592805,\n",
       "        29079897.39325307,  32660594.06357821,  31868017.3767294 ,\n",
       "        32205005.52650727,  32021116.37176058,  29827299.15850981,\n",
       "        27608338.50971545,  32532223.32037528,  31929584.15756102,\n",
       "        33686223.0725096 ,  32913993.77236224,  31915525.45028701,\n",
       "        30260058.2323202 ,  28372612.75449093,  33143872.42109904,\n",
       "        34381574.5641056 ,  32425646.33757778,  33052933.64884043,\n",
       "        33096749.06940808,  31231485.45850076,  27295613.7865193 ,\n",
       "        31746027.82671656,  32472017.16878469,  32041898.12185987,\n",
       "        24963903.68181164,  32868053.91990333,  31027982.25785416,\n",
       "        26020757.21385639,  30278784.37174192,  27330579.47593719,\n",
       "        23259718.94207297,  22251571.6496339 ,  21791003.16441214,\n",
       "        18928160.26612438,  16715712.8118644 ,  16285304.94148544,\n",
       "        17655177.66126358,  20015319.95295563,  18702877.97188838,\n",
       "        19143997.13083643,  17356649.28776881,  16344215.90039884])"
      ]
     },
     "execution_count": 795,
     "metadata": {},
     "output_type": "execute_result"
    }
   ],
   "source": [
    "# Prediction\n",
    "forecast_vol = clf.predict(X_predict)\n",
    "print('Forecasted volume for {} days into the future '.format(n))\n",
    "forecast_vol"
   ]
  },
  {
   "cell_type": "code",
   "execution_count": 796,
   "metadata": {},
   "outputs": [
    {
     "data": {
      "text/plain": [
       "90"
      ]
     },
     "execution_count": 796,
     "metadata": {},
     "output_type": "execute_result"
    }
   ],
   "source": [
    "# How many predictions\n",
    "len(forecast_vol)"
   ]
  },
  {
   "cell_type": "markdown",
   "metadata": {},
   "source": [
    "# Plot and visualize"
   ]
  },
  {
   "cell_type": "code",
   "execution_count": 797,
   "metadata": {
    "collapsed": true
   },
   "outputs": [],
   "source": [
    "import datetime\n",
    "from matplotlib import style"
   ]
  },
  {
   "cell_type": "code",
   "execution_count": 798,
   "metadata": {
    "collapsed": true
   },
   "outputs": [],
   "source": [
    "style.use('ggplot')"
   ]
  },
  {
   "cell_type": "code",
   "execution_count": 799,
   "metadata": {
    "collapsed": true
   },
   "outputs": [],
   "source": [
    "# Adding a new column\n",
    "df_copy['Forecast'] =  np.nan"
   ]
  },
  {
   "cell_type": "code",
   "execution_count": 800,
   "metadata": {},
   "outputs": [
    {
     "name": "stdout",
     "output_type": "stream",
     "text": [
      "<class 'pandas.core.frame.DataFrame'>\n",
      "Int64Index: 2718 entries, 0 to 2739\n",
      "Data columns (total 4 columns):\n",
      "Date        2718 non-null datetime64[ns]\n",
      "Messages    2718 non-null float64\n",
      "label       2718 non-null float64\n",
      "Forecast    0 non-null float64\n",
      "dtypes: datetime64[ns](1), float64(3)\n",
      "memory usage: 106.2 KB\n"
     ]
    }
   ],
   "source": [
    "df_copy.info()"
   ]
  },
  {
   "cell_type": "code",
   "execution_count": 801,
   "metadata": {},
   "outputs": [
    {
     "name": "stdout",
     "output_type": "stream",
     "text": [
      "<class 'pandas.core.frame.DataFrame'>\n",
      "Int64Index: 2718 entries, 0 to 2739\n",
      "Data columns (total 4 columns):\n",
      "Date        2718 non-null datetime64[ns]\n",
      "Messages    2718 non-null float64\n",
      "label       2718 non-null float64\n",
      "Forecast    0 non-null float64\n",
      "dtypes: datetime64[ns](1), float64(3)\n",
      "memory usage: 106.2 KB\n"
     ]
    }
   ],
   "source": [
    "df_copy.Date = pd.to_datetime(df_copy.Date)\n",
    "df_copy.info()"
   ]
  },
  {
   "cell_type": "code",
   "execution_count": 802,
   "metadata": {},
   "outputs": [
    {
     "data": {
      "text/html": [
       "<div>\n",
       "<style>\n",
       "    .dataframe thead tr:only-child th {\n",
       "        text-align: right;\n",
       "    }\n",
       "\n",
       "    .dataframe thead th {\n",
       "        text-align: left;\n",
       "    }\n",
       "\n",
       "    .dataframe tbody tr th {\n",
       "        vertical-align: top;\n",
       "    }\n",
       "</style>\n",
       "<table border=\"1\" class=\"dataframe\">\n",
       "  <thead>\n",
       "    <tr style=\"text-align: right;\">\n",
       "      <th></th>\n",
       "      <th>Date</th>\n",
       "      <th>Messages</th>\n",
       "      <th>label</th>\n",
       "      <th>Forecast</th>\n",
       "    </tr>\n",
       "  </thead>\n",
       "  <tbody>\n",
       "    <tr>\n",
       "      <th>2720</th>\n",
       "      <td>2017-12-12</td>\n",
       "      <td>28654323.0</td>\n",
       "      <td>15594496.0</td>\n",
       "      <td>NaN</td>\n",
       "    </tr>\n",
       "    <tr>\n",
       "      <th>2721</th>\n",
       "      <td>2017-12-13</td>\n",
       "      <td>28273085.0</td>\n",
       "      <td>15297032.0</td>\n",
       "      <td>NaN</td>\n",
       "    </tr>\n",
       "    <tr>\n",
       "      <th>2722</th>\n",
       "      <td>2017-12-14</td>\n",
       "      <td>21999472.0</td>\n",
       "      <td>15551558.0</td>\n",
       "      <td>NaN</td>\n",
       "    </tr>\n",
       "    <tr>\n",
       "      <th>2723</th>\n",
       "      <td>2017-12-15</td>\n",
       "      <td>29005352.0</td>\n",
       "      <td>15395735.0</td>\n",
       "      <td>NaN</td>\n",
       "    </tr>\n",
       "    <tr>\n",
       "      <th>2724</th>\n",
       "      <td>2017-12-16</td>\n",
       "      <td>27374396.0</td>\n",
       "      <td>15974493.0</td>\n",
       "      <td>NaN</td>\n",
       "    </tr>\n",
       "    <tr>\n",
       "      <th>2725</th>\n",
       "      <td>2017-12-17</td>\n",
       "      <td>22936219.0</td>\n",
       "      <td>15008961.0</td>\n",
       "      <td>NaN</td>\n",
       "    </tr>\n",
       "    <tr>\n",
       "      <th>2726</th>\n",
       "      <td>2017-12-18</td>\n",
       "      <td>26710341.0</td>\n",
       "      <td>13871439.0</td>\n",
       "      <td>NaN</td>\n",
       "    </tr>\n",
       "    <tr>\n",
       "      <th>2727</th>\n",
       "      <td>2017-12-19</td>\n",
       "      <td>24097186.0</td>\n",
       "      <td>16376852.0</td>\n",
       "      <td>NaN</td>\n",
       "    </tr>\n",
       "    <tr>\n",
       "      <th>2728</th>\n",
       "      <td>2017-12-20</td>\n",
       "      <td>20488960.0</td>\n",
       "      <td>16887208.0</td>\n",
       "      <td>NaN</td>\n",
       "    </tr>\n",
       "    <tr>\n",
       "      <th>2729</th>\n",
       "      <td>2017-12-21</td>\n",
       "      <td>19595384.0</td>\n",
       "      <td>16288386.0</td>\n",
       "      <td>NaN</td>\n",
       "    </tr>\n",
       "    <tr>\n",
       "      <th>2730</th>\n",
       "      <td>2017-12-22</td>\n",
       "      <td>19187157.0</td>\n",
       "      <td>16168396.0</td>\n",
       "      <td>NaN</td>\n",
       "    </tr>\n",
       "    <tr>\n",
       "      <th>2731</th>\n",
       "      <td>2017-12-23</td>\n",
       "      <td>16649663.0</td>\n",
       "      <td>15934907.0</td>\n",
       "      <td>NaN</td>\n",
       "    </tr>\n",
       "    <tr>\n",
       "      <th>2732</th>\n",
       "      <td>2017-12-24</td>\n",
       "      <td>14688650.0</td>\n",
       "      <td>14384788.0</td>\n",
       "      <td>NaN</td>\n",
       "    </tr>\n",
       "    <tr>\n",
       "      <th>2733</th>\n",
       "      <td>2017-12-25</td>\n",
       "      <td>14307156.0</td>\n",
       "      <td>12980293.0</td>\n",
       "      <td>NaN</td>\n",
       "    </tr>\n",
       "    <tr>\n",
       "      <th>2734</th>\n",
       "      <td>2017-12-26</td>\n",
       "      <td>15521349.0</td>\n",
       "      <td>16506017.0</td>\n",
       "      <td>NaN</td>\n",
       "    </tr>\n",
       "    <tr>\n",
       "      <th>2735</th>\n",
       "      <td>2017-12-27</td>\n",
       "      <td>17613272.0</td>\n",
       "      <td>16340320.0</td>\n",
       "      <td>NaN</td>\n",
       "    </tr>\n",
       "    <tr>\n",
       "      <th>2736</th>\n",
       "      <td>2017-12-28</td>\n",
       "      <td>16449983.0</td>\n",
       "      <td>16379341.0</td>\n",
       "      <td>NaN</td>\n",
       "    </tr>\n",
       "    <tr>\n",
       "      <th>2737</th>\n",
       "      <td>2017-12-29</td>\n",
       "      <td>16840971.0</td>\n",
       "      <td>17166139.0</td>\n",
       "      <td>NaN</td>\n",
       "    </tr>\n",
       "    <tr>\n",
       "      <th>2738</th>\n",
       "      <td>2017-12-30</td>\n",
       "      <td>15256747.0</td>\n",
       "      <td>17645568.0</td>\n",
       "      <td>NaN</td>\n",
       "    </tr>\n",
       "    <tr>\n",
       "      <th>2739</th>\n",
       "      <td>2017-12-31</td>\n",
       "      <td>14359372.0</td>\n",
       "      <td>15121190.0</td>\n",
       "      <td>NaN</td>\n",
       "    </tr>\n",
       "  </tbody>\n",
       "</table>\n",
       "</div>"
      ],
      "text/plain": [
       "           Date    Messages       label  Forecast\n",
       "2720 2017-12-12  28654323.0  15594496.0       NaN\n",
       "2721 2017-12-13  28273085.0  15297032.0       NaN\n",
       "2722 2017-12-14  21999472.0  15551558.0       NaN\n",
       "2723 2017-12-15  29005352.0  15395735.0       NaN\n",
       "2724 2017-12-16  27374396.0  15974493.0       NaN\n",
       "2725 2017-12-17  22936219.0  15008961.0       NaN\n",
       "2726 2017-12-18  26710341.0  13871439.0       NaN\n",
       "2727 2017-12-19  24097186.0  16376852.0       NaN\n",
       "2728 2017-12-20  20488960.0  16887208.0       NaN\n",
       "2729 2017-12-21  19595384.0  16288386.0       NaN\n",
       "2730 2017-12-22  19187157.0  16168396.0       NaN\n",
       "2731 2017-12-23  16649663.0  15934907.0       NaN\n",
       "2732 2017-12-24  14688650.0  14384788.0       NaN\n",
       "2733 2017-12-25  14307156.0  12980293.0       NaN\n",
       "2734 2017-12-26  15521349.0  16506017.0       NaN\n",
       "2735 2017-12-27  17613272.0  16340320.0       NaN\n",
       "2736 2017-12-28  16449983.0  16379341.0       NaN\n",
       "2737 2017-12-29  16840971.0  17166139.0       NaN\n",
       "2738 2017-12-30  15256747.0  17645568.0       NaN\n",
       "2739 2017-12-31  14359372.0  15121190.0       NaN"
      ]
     },
     "execution_count": 802,
     "metadata": {},
     "output_type": "execute_result"
    }
   ],
   "source": [
    "df_copy.tail(20)"
   ]
  },
  {
   "cell_type": "code",
   "execution_count": 803,
   "metadata": {},
   "outputs": [
    {
     "data": {
      "text/html": [
       "<div>\n",
       "<style>\n",
       "    .dataframe thead tr:only-child th {\n",
       "        text-align: right;\n",
       "    }\n",
       "\n",
       "    .dataframe thead th {\n",
       "        text-align: left;\n",
       "    }\n",
       "\n",
       "    .dataframe tbody tr th {\n",
       "        vertical-align: top;\n",
       "    }\n",
       "</style>\n",
       "<table border=\"1\" class=\"dataframe\">\n",
       "  <thead>\n",
       "    <tr style=\"text-align: right;\">\n",
       "      <th></th>\n",
       "      <th>Messages</th>\n",
       "      <th>label</th>\n",
       "      <th>Forecast</th>\n",
       "    </tr>\n",
       "    <tr>\n",
       "      <th>Date</th>\n",
       "      <th></th>\n",
       "      <th></th>\n",
       "      <th></th>\n",
       "    </tr>\n",
       "  </thead>\n",
       "  <tbody>\n",
       "    <tr>\n",
       "      <th>2017-12-27</th>\n",
       "      <td>17613272.0</td>\n",
       "      <td>16340320.0</td>\n",
       "      <td>NaN</td>\n",
       "    </tr>\n",
       "    <tr>\n",
       "      <th>2017-12-28</th>\n",
       "      <td>16449983.0</td>\n",
       "      <td>16379341.0</td>\n",
       "      <td>NaN</td>\n",
       "    </tr>\n",
       "    <tr>\n",
       "      <th>2017-12-29</th>\n",
       "      <td>16840971.0</td>\n",
       "      <td>17166139.0</td>\n",
       "      <td>NaN</td>\n",
       "    </tr>\n",
       "    <tr>\n",
       "      <th>2017-12-30</th>\n",
       "      <td>15256747.0</td>\n",
       "      <td>17645568.0</td>\n",
       "      <td>NaN</td>\n",
       "    </tr>\n",
       "    <tr>\n",
       "      <th>2017-12-31</th>\n",
       "      <td>14359372.0</td>\n",
       "      <td>15121190.0</td>\n",
       "      <td>NaN</td>\n",
       "    </tr>\n",
       "  </tbody>\n",
       "</table>\n",
       "</div>"
      ],
      "text/plain": [
       "              Messages       label  Forecast\n",
       "Date                                        \n",
       "2017-12-27  17613272.0  16340320.0       NaN\n",
       "2017-12-28  16449983.0  16379341.0       NaN\n",
       "2017-12-29  16840971.0  17166139.0       NaN\n",
       "2017-12-30  15256747.0  17645568.0       NaN\n",
       "2017-12-31  14359372.0  15121190.0       NaN"
      ]
     },
     "execution_count": 803,
     "metadata": {},
     "output_type": "execute_result"
    }
   ],
   "source": [
    "# check the last entry\n",
    "df_copy.set_index('Date', inplace=True)\n",
    "df_copy.tail()"
   ]
  },
  {
   "cell_type": "code",
   "execution_count": 804,
   "metadata": {},
   "outputs": [
    {
     "data": {
      "text/plain": [
       "datetime.datetime(2018, 1, 1, 0, 0)"
      ]
     },
     "execution_count": 804,
     "metadata": {},
     "output_type": "execute_result"
    }
   ],
   "source": [
    "last_date = df_copy.iloc[-1].name\n",
    "#print(last_date)\n",
    "last_unix = last_date.timestamp()\n",
    "last_unix\n",
    "one_day = 86400\n",
    "next_day = int(last_unix) + one_day\n",
    "datetime.datetime.fromtimestamp(next_day)"
   ]
  },
  {
   "cell_type": "code",
   "execution_count": 805,
   "metadata": {},
   "outputs": [
    {
     "name": "stdout",
     "output_type": "stream",
     "text": [
      "2017-12-31 00:00:00\n"
     ]
    },
    {
     "data": {
      "text/plain": [
       "datetime.datetime(2018, 1, 1, 0, 0)"
      ]
     },
     "execution_count": 805,
     "metadata": {},
     "output_type": "execute_result"
    }
   ],
   "source": [
    "last_date = df_copy.iloc[-1].name\n",
    "print(last_date)\n",
    "last_unix = last_date.timestamp()\n",
    "last_unix\n",
    "one_day = 86400\n",
    "next_day = int(last_unix) + one_day\n",
    "datetime.datetime.fromtimestamp(next_day)\n",
    "#next_date = datetime.datetime.fromtimestamp(next_unix)"
   ]
  },
  {
   "cell_type": "code",
   "execution_count": 806,
   "metadata": {},
   "outputs": [
    {
     "data": {
      "text/plain": [
       "90"
      ]
     },
     "execution_count": 806,
     "metadata": {},
     "output_type": "execute_result"
    }
   ],
   "source": [
    "len(forecast_vol)"
   ]
  },
  {
   "cell_type": "code",
   "execution_count": 807,
   "metadata": {},
   "outputs": [],
   "source": [
    "# Now lets fill the forecasted volumes into the forecast columns and put NaN everywhere else\n",
    "\n",
    "for i in forecast_vol:\n",
    "    next_date = datetime.datetime.fromtimestamp(next_day)\n",
    "    next_day += 86400\n",
    "    df_copy.loc[next_date]=[np.nan for _ in range(len(df_copy.columns) - 1)] + [i]"
   ]
  },
  {
   "cell_type": "code",
   "execution_count": 808,
   "metadata": {},
   "outputs": [
    {
     "data": {
      "text/html": [
       "<div>\n",
       "<style>\n",
       "    .dataframe thead tr:only-child th {\n",
       "        text-align: right;\n",
       "    }\n",
       "\n",
       "    .dataframe thead th {\n",
       "        text-align: left;\n",
       "    }\n",
       "\n",
       "    .dataframe tbody tr th {\n",
       "        vertical-align: top;\n",
       "    }\n",
       "</style>\n",
       "<table border=\"1\" class=\"dataframe\">\n",
       "  <thead>\n",
       "    <tr style=\"text-align: right;\">\n",
       "      <th></th>\n",
       "      <th>Messages</th>\n",
       "      <th>label</th>\n",
       "      <th>Forecast</th>\n",
       "    </tr>\n",
       "    <tr>\n",
       "      <th>Date</th>\n",
       "      <th></th>\n",
       "      <th></th>\n",
       "      <th></th>\n",
       "    </tr>\n",
       "  </thead>\n",
       "  <tbody>\n",
       "    <tr>\n",
       "      <th>2018-03-12</th>\n",
       "      <td>NaN</td>\n",
       "      <td>NaN</td>\n",
       "      <td>3.247202e+07</td>\n",
       "    </tr>\n",
       "    <tr>\n",
       "      <th>2018-03-13</th>\n",
       "      <td>NaN</td>\n",
       "      <td>NaN</td>\n",
       "      <td>3.204190e+07</td>\n",
       "    </tr>\n",
       "    <tr>\n",
       "      <th>2018-03-14</th>\n",
       "      <td>NaN</td>\n",
       "      <td>NaN</td>\n",
       "      <td>2.496390e+07</td>\n",
       "    </tr>\n",
       "    <tr>\n",
       "      <th>2018-03-15</th>\n",
       "      <td>NaN</td>\n",
       "      <td>NaN</td>\n",
       "      <td>3.286805e+07</td>\n",
       "    </tr>\n",
       "    <tr>\n",
       "      <th>2018-03-16</th>\n",
       "      <td>NaN</td>\n",
       "      <td>NaN</td>\n",
       "      <td>3.102798e+07</td>\n",
       "    </tr>\n",
       "    <tr>\n",
       "      <th>2018-03-17</th>\n",
       "      <td>NaN</td>\n",
       "      <td>NaN</td>\n",
       "      <td>2.602076e+07</td>\n",
       "    </tr>\n",
       "    <tr>\n",
       "      <th>2018-03-18</th>\n",
       "      <td>NaN</td>\n",
       "      <td>NaN</td>\n",
       "      <td>3.027878e+07</td>\n",
       "    </tr>\n",
       "    <tr>\n",
       "      <th>2018-03-19</th>\n",
       "      <td>NaN</td>\n",
       "      <td>NaN</td>\n",
       "      <td>2.733058e+07</td>\n",
       "    </tr>\n",
       "    <tr>\n",
       "      <th>2018-03-20</th>\n",
       "      <td>NaN</td>\n",
       "      <td>NaN</td>\n",
       "      <td>2.325972e+07</td>\n",
       "    </tr>\n",
       "    <tr>\n",
       "      <th>2018-03-21</th>\n",
       "      <td>NaN</td>\n",
       "      <td>NaN</td>\n",
       "      <td>2.225157e+07</td>\n",
       "    </tr>\n",
       "    <tr>\n",
       "      <th>2018-03-22</th>\n",
       "      <td>NaN</td>\n",
       "      <td>NaN</td>\n",
       "      <td>2.179100e+07</td>\n",
       "    </tr>\n",
       "    <tr>\n",
       "      <th>2018-03-23</th>\n",
       "      <td>NaN</td>\n",
       "      <td>NaN</td>\n",
       "      <td>1.892816e+07</td>\n",
       "    </tr>\n",
       "    <tr>\n",
       "      <th>2018-03-24</th>\n",
       "      <td>NaN</td>\n",
       "      <td>NaN</td>\n",
       "      <td>1.671571e+07</td>\n",
       "    </tr>\n",
       "    <tr>\n",
       "      <th>2018-03-25</th>\n",
       "      <td>NaN</td>\n",
       "      <td>NaN</td>\n",
       "      <td>1.628530e+07</td>\n",
       "    </tr>\n",
       "    <tr>\n",
       "      <th>2018-03-26</th>\n",
       "      <td>NaN</td>\n",
       "      <td>NaN</td>\n",
       "      <td>1.765518e+07</td>\n",
       "    </tr>\n",
       "    <tr>\n",
       "      <th>2018-03-27</th>\n",
       "      <td>NaN</td>\n",
       "      <td>NaN</td>\n",
       "      <td>2.001532e+07</td>\n",
       "    </tr>\n",
       "    <tr>\n",
       "      <th>2018-03-28</th>\n",
       "      <td>NaN</td>\n",
       "      <td>NaN</td>\n",
       "      <td>1.870288e+07</td>\n",
       "    </tr>\n",
       "    <tr>\n",
       "      <th>2018-03-29</th>\n",
       "      <td>NaN</td>\n",
       "      <td>NaN</td>\n",
       "      <td>1.914400e+07</td>\n",
       "    </tr>\n",
       "    <tr>\n",
       "      <th>2018-03-30</th>\n",
       "      <td>NaN</td>\n",
       "      <td>NaN</td>\n",
       "      <td>1.735665e+07</td>\n",
       "    </tr>\n",
       "    <tr>\n",
       "      <th>2018-03-31</th>\n",
       "      <td>NaN</td>\n",
       "      <td>NaN</td>\n",
       "      <td>1.634422e+07</td>\n",
       "    </tr>\n",
       "  </tbody>\n",
       "</table>\n",
       "</div>"
      ],
      "text/plain": [
       "            Messages  label      Forecast\n",
       "Date                                     \n",
       "2018-03-12       NaN    NaN  3.247202e+07\n",
       "2018-03-13       NaN    NaN  3.204190e+07\n",
       "2018-03-14       NaN    NaN  2.496390e+07\n",
       "2018-03-15       NaN    NaN  3.286805e+07\n",
       "2018-03-16       NaN    NaN  3.102798e+07\n",
       "2018-03-17       NaN    NaN  2.602076e+07\n",
       "2018-03-18       NaN    NaN  3.027878e+07\n",
       "2018-03-19       NaN    NaN  2.733058e+07\n",
       "2018-03-20       NaN    NaN  2.325972e+07\n",
       "2018-03-21       NaN    NaN  2.225157e+07\n",
       "2018-03-22       NaN    NaN  2.179100e+07\n",
       "2018-03-23       NaN    NaN  1.892816e+07\n",
       "2018-03-24       NaN    NaN  1.671571e+07\n",
       "2018-03-25       NaN    NaN  1.628530e+07\n",
       "2018-03-26       NaN    NaN  1.765518e+07\n",
       "2018-03-27       NaN    NaN  2.001532e+07\n",
       "2018-03-28       NaN    NaN  1.870288e+07\n",
       "2018-03-29       NaN    NaN  1.914400e+07\n",
       "2018-03-30       NaN    NaN  1.735665e+07\n",
       "2018-03-31       NaN    NaN  1.634422e+07"
      ]
     },
     "execution_count": 808,
     "metadata": {},
     "output_type": "execute_result"
    }
   ],
   "source": [
    "df_copy.tail(20)"
   ]
  },
  {
   "cell_type": "markdown",
   "metadata": {},
   "source": [
    "## Now Plotting time"
   ]
  },
  {
   "cell_type": "code",
   "execution_count": 809,
   "metadata": {},
   "outputs": [
    {
     "data": {
      "image/png": "[encoded data removed]",
      "text/plain": [
       "<matplotlib.figure.Figure at 0x19183b70>"
      ]
     },
     "metadata": {},
     "output_type": "display_data"
    }
   ],
   "source": [
    "#df_copy[[label']].plot(x = \"Date\", y = \"Messages forecast\", kind= \"line\", figsize = (20,10))\n",
    "\n",
    "df_copy['label'].plot(kind= \"line\", figsize = (20,10));\n",
    "df_copy['Forecast'].plot(figsize = (20,10))\n",
    "plt.xlabel(\"Date\")\n",
    "plt.ylabel(\"Message volume\")\n",
    "plt.legend(loc=4)\n",
    "plt.show();"
   ]
  },
  {
   "cell_type": "code",
   "execution_count": 810,
   "metadata": {},
   "outputs": [
    {
     "data": {
      "text/plain": [
       "<matplotlib.axes._subplots.AxesSubplot at 0x149b4eb8>"
      ]
     },
     "execution_count": 810,
     "metadata": {},
     "output_type": "execute_result"
    },
    {
     "data": {
      "image/png": "[encoded data removed]",
      "text/plain": [
       "<matplotlib.figure.Figure at 0x19183a58>"
      ]
     },
     "metadata": {},
     "output_type": "display_data"
    }
   ],
   "source": [
    "# Mentioning the dat range also\n",
    "df_copy.loc['2017-01-01': '2018-06-01',['label', 'Forecast']].plot(kind= \"line\", figsize = (20,10))\n",
    "# df_copy.loc['2018-03-21': '2018-05-01',['Forecast']].plot(figsize = (20,10));\n",
    "#plt.xlim('2018-03-22', '2018-05-01')"
   ]
  },
  {
   "cell_type": "code",
   "execution_count": null,
   "metadata": {
    "collapsed": true
   },
   "outputs": [],
   "source": []
  }
 ],
 "metadata": {
  "kernelspec": {
   "display_name": "Python 3",
   "language": "python",
   "name": "python3"
  },
  "language_info": {
   "codemirror_mode": {
    "name": "ipython",
    "version": 3
   },
   "file_extension": ".py",
   "mimetype": "text/x-python",
   "name": "python",
   "nbconvert_exporter": "python",
   "pygments_lexer": "ipython3",
   "version": "3.6.3"
  }
 },
 "nbformat": 4,
 "nbformat_minor": 2
}
